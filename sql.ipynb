{
 "cells": [
  {
   "cell_type": "code",
   "execution_count": 2,
   "id": "2b113213",
   "metadata": {},
   "outputs": [],
   "source": [
    "#Parametrage\n",
    "import pandas as pd \n",
    "import numpy as np\n",
    "import os\n",
    "import matplotlib.pyplot as plt\n",
    "import sqlite3\n",
    "import os.path"
   ]
  },
  {
   "cell_type": "code",
   "execution_count": 3,
   "id": "9b6d8fec",
   "metadata": {},
   "outputs": [
    {
     "data": {
      "text/plain": [
       "['db.sqlite3',\n",
       " 'library',\n",
       " 'LibraryManagementSystem',\n",
       " '.git',\n",
       " '.env',\n",
       " '.ipynb_checkpoints',\n",
       " 'manage.py',\n",
       " 'README.md',\n",
       " '.gitignore',\n",
       " 'recommandation_système',\n",
       " 'sql.ipynb',\n",
       " 'requirements.txt']"
      ]
     },
     "execution_count": 3,
     "metadata": {},
     "output_type": "execute_result"
    }
   ],
   "source": [
    "os.listdir()"
   ]
  },
  {
   "cell_type": "code",
   "execution_count": 5,
   "id": "f163f2bb",
   "metadata": {},
   "outputs": [
    {
     "data": {
      "text/plain": [
       "<sqlite3.Connection at 0x7eff02c9b990>"
      ]
     },
     "execution_count": 5,
     "metadata": {},
     "output_type": "execute_result"
    }
   ],
   "source": [
    "# Création d'une base de données ou connexion à une base déjà existante.\n",
    "connexion = sqlite3.connect(\"db.sqlite3\")  #BDD dans le fichier \"basededonnees.db\"\n",
    "connexion"
   ]
  },
  {
   "cell_type": "code",
   "execution_count": 4,
   "id": "b7050e9c",
   "metadata": {},
   "outputs": [
    {
     "data": {
      "text/plain": [
       "<sqlite3.Cursor at 0x7f9e3f050b20>"
      ]
     },
     "execution_count": 4,
     "metadata": {},
     "output_type": "execute_result"
    }
   ],
   "source": [
    "curseur = connexion.cursor() \n",
    "curseur"
   ]
  },
  {
   "cell_type": "code",
   "execution_count": null,
   "id": "6e40a799",
   "metadata": {},
   "outputs": [],
   "source": [
    "INSERT INTO library_student (classroom,branch,user_id,phone,roll_no,image) VALUES\n",
    "\t ('TE-2','IT',6,'4323215678','13','user_icon_400x472.png'),\n",
    "\t ('SE-2','CS',7,'7768564923','100','user_icon_400x467.png');"
   ]
  },
  {
   "cell_type": "code",
   "execution_count": 8,
   "id": "bb266762",
   "metadata": {},
   "outputs": [],
   "source": [
    "# Chargement de la base de données clients\n",
    "curseur.executescript(\"\"\"\n",
    "\n",
    "DROP TABLE IF EXISTS library_student;\n",
    "\n",
    "CREATE TABLE IF NOT EXISTS library_student(\n",
    "id INTEGER PRIMARY KEY AUTOINCREMENT NOT NULL,\n",
    "classroom TEXT,\n",
    "status TEXT,\n",
    "user_id TEXT,\n",
    "phone TEXT,\n",
    "roll_no TEXT,\n",
    "image TEXT,\n",
    "FOREIGN KEY (user_id) REFERENCES auth_user(id));\n",
    "\n",
    "INSERT INTO library_student (classroom,status,user_id,phone,roll_no,image) VALUES\n",
    "\t ('TE-2','IT',6,'4323215678','13','user_icon_400x472.png'),\n",
    "\t ('SE-2','CS',7,'7768564923','100','user_icon_400x467.png');\n",
    " \"\"\")\n",
    "connexion.commit() #Ne pas oublier de valider les modifications"
   ]
  },
  {
   "cell_type": "code",
   "execution_count": null,
   "id": "9858c718",
   "metadata": {},
   "outputs": [],
   "source": [
    "CREATE TABLE IF NOT EXISTS booking (\n",
    "    booking_id INTEGER PRIMARY KEY,\n",
    "    user_id INTEGER,\n",
    "----^ your code is missing this declaration\n",
    "    start_date TEXT,\n",
    "    expiry_date TEXT,\n",
    "    FOREIGN KEY (user_id) REFERENCES details(user_id)\n",
    ")"
   ]
  },
  {
   "cell_type": "code",
   "execution_count": 9,
   "id": "7f4c5cf8",
   "metadata": {},
   "outputs": [
    {
     "data": {
      "text/plain": [
       "<sqlite3.Cursor at 0x7f9e3f050b20>"
      ]
     },
     "execution_count": 9,
     "metadata": {},
     "output_type": "execute_result"
    }
   ],
   "source": [
    "curseur.execute(\"PRAGMA foreign_keys = ON\") "
   ]
  },
  {
   "cell_type": "code",
   "execution_count": 8,
   "id": "8b5eb58a",
   "metadata": {},
   "outputs": [
    {
     "ename": "OperationalError",
     "evalue": "unknown column \"user_id\" in foreign key definition",
     "output_type": "error",
     "traceback": [
      "\u001b[0;31m---------------------------------------------------------------------------\u001b[0m",
      "\u001b[0;31mOperationalError\u001b[0m                          Traceback (most recent call last)",
      "\u001b[0;32m/tmp/ipykernel_412276/3364011629.py\u001b[0m in \u001b[0;36m<module>\u001b[0;34m\u001b[0m\n\u001b[1;32m      1\u001b[0m \u001b[0;31m# Chargement de la base de données clients\u001b[0m\u001b[0;34m\u001b[0m\u001b[0;34m\u001b[0m\u001b[0m\n\u001b[0;32m----> 2\u001b[0;31m curseur.executescript(\"\"\"\n\u001b[0m\u001b[1;32m      3\u001b[0m \u001b[0;34m\u001b[0m\u001b[0m\n\u001b[1;32m      4\u001b[0m CREATE TABLE library_student(\n\u001b[1;32m      5\u001b[0m \u001b[0mid\u001b[0m \u001b[0mINTEGER\u001b[0m \u001b[0mPRIMARY\u001b[0m \u001b[0mKEY\u001b[0m \u001b[0mAUTOINCREMENT\u001b[0m \u001b[0mNOT\u001b[0m \u001b[0mNULL\u001b[0m\u001b[0;34m,\u001b[0m\u001b[0;34m\u001b[0m\u001b[0;34m\u001b[0m\u001b[0m\n",
      "\u001b[0;31mOperationalError\u001b[0m: unknown column \"user_id\" in foreign key definition"
     ]
    }
   ],
   "source": [
    "# Chargement de la base de données clients\n",
    "curseur.executescript(\"\"\"\n",
    "\n",
    "CREATE TABLE library_student(\n",
    "id INTEGER PRIMARY KEY AUTOINCREMENT NOT NULL,\n",
    "classroom TEXT,\n",
    "status TEXT,\n",
    "FOREIGN KEY (user_id) REFERENCES auth_user (id),\n",
    "user_id TEXT,\n",
    "phone TEXT,\n",
    "roll_no TEXT,\n",
    "image TEXT);\n",
    "\n",
    "INSERT INTO library_student (classroom,status,user_id,phone,roll_no,image) VALUES\n",
    "\t ('TE-2','IT',6,'4323215678','13','user_icon_400x472.png'),\n",
    "\t ('SE-2','CS',7,'7768564923','100','user_icon_400x467.png');\n",
    " \"\"\")\n",
    "connexion.commit() #Ne pas oublier de valider les modifications"
   ]
  },
  {
   "cell_type": "code",
   "execution_count": null,
   "id": "cbf1bd62",
   "metadata": {},
   "outputs": [],
   "source": [
    "\"\"\"CREATE TABLE suppliers (\n",
    "    supplier_id   INTEGER PRIMARY KEY,\n",
    "    supplier_name TEXT    NOT NULL,\n",
    "    group_id      INTEGER NOT NULL,\n",
    "    FOREIGN KEY (group_id)\n",
    "       REFERENCES supplier_groups (group_id) \n",
    ");\"\"\""
   ]
  }
 ],
 "metadata": {
  "kernelspec": {
   "display_name": "Python 3 (ipykernel)",
   "language": "python",
   "name": "python3"
  },
  "language_info": {
   "codemirror_mode": {
    "name": "ipython",
    "version": 3
   },
   "file_extension": ".py",
   "mimetype": "text/x-python",
   "name": "python",
   "nbconvert_exporter": "python",
   "pygments_lexer": "ipython3",
   "version": "3.9.13"
  }
 },
 "nbformat": 4,
 "nbformat_minor": 5
}
